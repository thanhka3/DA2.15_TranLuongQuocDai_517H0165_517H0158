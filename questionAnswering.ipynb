{
 "cells": [
  {
   "cell_type": "code",
   "execution_count": 1,
   "metadata": {},
   "outputs": [
    {
     "name": "stderr",
     "output_type": "stream",
     "text": [
      "C:\\Users\\ADMIN\\AppData\\Roaming\\Python\\Python37\\site-packages\\tqdm\\auto.py:21: TqdmWarning: IProgress not found. Please update jupyter and ipywidgets. See https://ipywidgets.readthedocs.io/en/stable/user_install.html\n",
      "  from .autonotebook import tqdm as notebook_tqdm\n"
     ]
    }
   ],
   "source": [
    "import re\n",
    "from underthesea import word_tokenize\n",
    "from rank_bm25 import BM25Okapi, BM25Plus\n",
    "import pickle\n",
    "from transformers import RobertaTokenizerFast, RobertaForQuestionAnswering, DefaultDataCollator, TrainingArguments, Trainer, AutoModelForQuestionAnswering\n",
    "from datasets import Dataset\n",
    "import json\n",
    "import torch\n"
   ]
  },
  {
   "cell_type": "code",
   "execution_count": 2,
   "metadata": {},
   "outputs": [],
   "source": [
    "file = open('data.txt',encoding='utf-8').read().split(\"\\n\")\n",
    "data = []\n",
    "for line in file:\n",
    "    if re.search(\"^.*\\.\", line) or re.search(\"^.*\\)\", line):\n",
    "        data.append(line.lower())\n",
    "stopwords = open('../stopwords.txt', encoding='utf-8').read().split(\" \")"
   ]
  },
  {
   "cell_type": "code",
   "execution_count": 3,
   "metadata": {},
   "outputs": [],
   "source": [
    "def removeStopwords(sentence):\n",
    "  words = word_tokenize(sentence)\n",
    "  word = [w.lower() for w in words if w not in (stopwords)]\n",
    "  sentence_clean = \" \".join(word)\n",
    "  \n",
    "  return sentence_clean"
   ]
  },
  {
   "cell_type": "code",
   "execution_count": 4,
   "metadata": {},
   "outputs": [],
   "source": [
    "def bm25okapi_search(tokenized_query, bm25, corpus, n_results = 1):\n",
    "    top_results = bm25.get_top_n(tokenized_query, corpus, n = n_results)\n",
    "    top_results_return = [' '.join(top_result.split(' ')) \n",
    "                             for top_result in top_results]\n",
    "    \n",
    "    return top_results_return"
   ]
  },
  {
   "cell_type": "code",
   "execution_count": 5,
   "metadata": {},
   "outputs": [],
   "source": [
    "#to read bm25 object\n",
    "with open('bm25result', 'rb') as bm25result_file:\n",
    "    bm25result = pickle.load(bm25result_file)"
   ]
  },
  {
   "cell_type": "code",
   "execution_count": 6,
   "metadata": {},
   "outputs": [],
   "source": [
    "model = RobertaForQuestionAnswering.from_pretrained(\"phobert_law\")\n",
    "tokenizer = RobertaTokenizerFast.from_pretrained(\"phobert_law\")\n"
   ]
  },
  {
   "cell_type": "code",
   "execution_count": 7,
   "metadata": {},
   "outputs": [],
   "source": [
    "while(True):\n",
    "    inputQuestion = input(\"Input context: \\n\")\n",
    "    if (inputQuestion.lower() == \"ok\"):\n",
    "        break\n",
    "    tokenized_query = word_tokenize(removeStopwords(inputQuestion))\n",
    "    topContext = bm25okapi_search(tokenized_query = tokenized_query,\n",
    "                 bm25 = bm25result, \n",
    "                 corpus = data,\n",
    "                 n_results = 5)\n",
    "    choosenContext = topContext[0]\n",
    "    inputs = tokenizer(inputQuestion.lower(), choosenContext, return_tensors=\"pt\",max_length=128, padding=\"max_length\", truncation=\"only_second\")\n",
    "    with torch.no_grad():\n",
    "        outputs = model(**inputs)\n",
    "    answer_start_index = outputs.start_logits.argmax()\n",
    "    answer_end_index = outputs.end_logits.argmax()\n",
    "    predict_answer_tokens = inputs.input_ids[0, answer_start_index : answer_end_index + 1]\n",
    "    print(\"Context: \" + choosenContext + \"\\n\")\n",
    "    print(\"Question \" + inputQuestion+ \"\\n\")\n",
    "    if(tokenizer.decode(predict_answer_tokens) == \"\"):\n",
    "        print(\"Answer: Chưa thể tìm thấy câu trả lời \\n\")\n",
    "    else:\n",
    "        print(\"Answer: \" + tokenizer.decode(predict_answer_tokens)+ \"\\n\")\n"
   ]
  },
  {
   "cell_type": "code",
   "execution_count": 8,
   "metadata": {},
   "outputs": [],
   "source": [
    "# Function read file test\n",
    "def read_data_test(filePath):\n",
    "    f = open(filePath,encoding='utf-8')\n",
    "    fileRead = json.load(f)\n",
    "    question = []\n",
    "    answer = []\n",
    "    for object in fileRead:\n",
    "        question.append(object[\"question\"].lower())\n",
    "        answer.append(object[\"answer\"].lower())\n",
    "    dataset = {\n",
    "    \"question\": question,\n",
    "    \"answer\": answer\n",
    "    }\n",
    "    return dataset\n",
    "\n",
    "# function to get answer\n",
    "def getAnswer(inputQuestion):\n",
    "    tokenized_query = word_tokenize(removeStopwords(inputQuestion))\n",
    "    topContext = bm25okapi_search(tokenized_query = tokenized_query,\n",
    "                 bm25 = bm25result, \n",
    "                 corpus = data,\n",
    "                 n_results = 5)\n",
    "    choosenContext = topContext[0]\n",
    "    inputs = tokenizer(inputQuestion.lower(), choosenContext, return_tensors=\"pt\",max_length=128, padding=\"max_length\", truncation=\"only_second\")\n",
    "    with torch.no_grad():\n",
    "        outputs = model(**inputs)\n",
    "        answer_start_index = outputs.start_logits.argmax()\n",
    "        answer_end_index = outputs.end_logits.argmax()\n",
    "        predict_answer_tokens = inputs.input_ids[0, answer_start_index : answer_end_index + 1]\n",
    "        if(tokenizer.decode(predict_answer_tokens) == \"\"):\n",
    "            return \"\"\n",
    "        else:\n",
    "            return tokenizer.decode(predict_answer_tokens)"
   ]
  },
  {
   "cell_type": "code",
   "execution_count": 9,
   "metadata": {},
   "outputs": [],
   "source": [
    "# To get score predict with bleu\n",
    "test_data = read_data_test(\"./QA_data/qa_test.json\")\n",
    "test_data = Dataset.from_dict(test_data)\n"
   ]
  },
  {
   "cell_type": "code",
   "execution_count": 10,
   "metadata": {},
   "outputs": [],
   "source": [
    "predicts = []\n",
    "for q in test_data[\"question\"]:\n",
    "    predicts.append(getAnswer(q))"
   ]
  },
  {
   "cell_type": "code",
   "execution_count": 12,
   "metadata": {},
   "outputs": [],
   "source": [
    "from nltk.translate.bleu_score import sentence_bleu\n",
    "#function to get score of results\n",
    "def getScore(ref, candi):\n",
    "    score = sentence_bleu(ref, candi)\n",
    "    return float('{:.4f}'.format(score))"
   ]
  },
  {
   "cell_type": "code",
   "execution_count": 14,
   "metadata": {},
   "outputs": [],
   "source": [
    "reference= []\n",
    "for i in test_data[\"answer\"]:\n",
    "    reference.append(i.split())\n"
   ]
  },
  {
   "cell_type": "code",
   "execution_count": 15,
   "metadata": {},
   "outputs": [
    {
     "name": "stderr",
     "output_type": "stream",
     "text": [
      "C:\\Users\\ADMIN\\AppData\\Roaming\\Python\\Python37\\site-packages\\nltk\\translate\\bleu_score.py:552: UserWarning: \n",
      "The hypothesis contains 0 counts of 4-gram overlaps.\n",
      "Therefore the BLEU score evaluates to 0, independently of\n",
      "how many N-gram overlaps of lower order it contains.\n",
      "Consider using lower n-gram order or use SmoothingFunction()\n",
      "  warnings.warn(_msg)\n",
      "C:\\Users\\ADMIN\\AppData\\Roaming\\Python\\Python37\\site-packages\\nltk\\translate\\bleu_score.py:552: UserWarning: \n",
      "The hypothesis contains 0 counts of 3-gram overlaps.\n",
      "Therefore the BLEU score evaluates to 0, independently of\n",
      "how many N-gram overlaps of lower order it contains.\n",
      "Consider using lower n-gram order or use SmoothingFunction()\n",
      "  warnings.warn(_msg)\n"
     ]
    }
   ],
   "source": [
    "scores = []\n",
    "for i in predicts:\n",
    "    scores.append(getScore(reference,i.split()))"
   ]
  },
  {
   "cell_type": "code",
   "execution_count": 172,
   "metadata": {},
   "outputs": [
    {
     "data": {
      "image/png": "[encoded data removed]",
      "text/plain": [
       "<Figure size 640x480 with 1 Axes>"
      ]
     },
     "metadata": {},
     "output_type": "display_data"
    }
   ],
   "source": [
    "import pandas as pd\n",
    "import matplotlib.pyplot as plt\n",
    "df1 = {\n",
    "    \"scores\": scores\n",
    "}\n",
    "df = pd.DataFrame(df1)\n",
    "lines = df.plot.bar()"
   ]
  },
  {
   "cell_type": "code",
   "execution_count": 16,
   "metadata": {},
   "outputs": [
    {
     "data": {
      "text/plain": [
       "0.6495758620689653"
      ]
     },
     "execution_count": 16,
     "metadata": {},
     "output_type": "execute_result"
    }
   ],
   "source": [
    "average = sum(scores)/len(scores)\n",
    "average"
   ]
  },
  {
   "cell_type": "code",
   "execution_count": 13,
   "metadata": {},
   "outputs": [
    {
     "name": "stderr",
     "output_type": "stream",
     "text": [
      "C:\\Users\\ADMIN\\AppData\\Roaming\\Python\\Python37\\site-packages\\ipykernel_launcher.py:2: FutureWarning: load_metric is deprecated and will be removed in the next major version of datasets. Use 'evaluate.load' instead, from the new library 🤗 Evaluate: https://huggingface.co/docs/evaluate\n",
      "  \n"
     ]
    },
    {
     "name": "stdout",
     "output_type": "stream",
     "text": [
      "Score(precision=0.5708938341715442, recall=0.7178232812959959, fmeasure=0.5982042626221233)\n"
     ]
    }
   ],
   "source": [
    "import datasets\n",
    "rouge = datasets.load_metric(\"rouge\")\n",
    "rouge_output = rouge.compute(predictions=predicts, references=test_data[\"answer\"], rouge_types=[\"rouge2\"])[\"rouge2\"].mid\n",
    "\n",
    "print(rouge_output)\n"
   ]
  }
 ],
 "metadata": {
  "kernelspec": {
   "display_name": "Python 3",
   "language": "python",
   "name": "python3"
  },
  "language_info": {
   "codemirror_mode": {
    "name": "ipython",
    "version": 3
   },
   "file_extension": ".py",
   "mimetype": "text/x-python",
   "name": "python",
   "nbconvert_exporter": "python",
   "pygments_lexer": "ipython3",
   "version": "3.7.9"
  }
 },
 "nbformat": 4,
 "nbformat_minor": 2
}
