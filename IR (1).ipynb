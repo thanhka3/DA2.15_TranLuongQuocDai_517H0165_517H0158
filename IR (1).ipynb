{
 "cells": [
  {
   "cell_type": "code",
   "execution_count": 1,
   "metadata": {},
   "outputs": [],
   "source": [
    "import re\n",
    "from underthesea import word_tokenize\n",
    "from rank_bm25 import BM25Okapi, BM25Plus\n",
    "import pyvi\n",
    "from pyvi import ViTokenizer, ViPosTagger\n",
    "import pickle"
   ]
  },
  {
   "cell_type": "code",
   "execution_count": 3,
   "metadata": {},
   "outputs": [],
   "source": [
    "file = open('../data.txt',encoding='utf-8').read().split(\"\\n\")\n",
    "data = []\n",
    "for line in file:\n",
    "    if re.search(\"^.*\\.\", line) or re.search(\"^.*\\)\", line):\n",
    "        data.append(line.lower())\n",
    "\n",
    "stopwords = open('../punctual.txt', encoding='utf-8').read().split(\" \")"
   ]
  },
  {
   "cell_type": "code",
   "execution_count": 4,
   "metadata": {},
   "outputs": [],
   "source": [
    "def removeStopwords(sentence):\n",
    "  words = word_tokenize(sentence)\n",
    "  word = [w.lower() for w in words if w not in (stopwords)]\n",
    "  sentence_clean = \" \".join(word)\n",
    "  \n",
    "  return sentence_clean"
   ]
  },
  {
   "cell_type": "code",
   "execution_count": 5,
   "metadata": {},
   "outputs": [],
   "source": [
    "def removeDash(sentence):\n",
    "    words = sentence.split('_')\n",
    "    return \" \".join(words)"
   ]
  },
  {
   "cell_type": "code",
   "execution_count": 6,
   "metadata": {},
   "outputs": [],
   "source": [
    "def cleanQuestion(qs):\n",
    "    getLabels = ['N','M','V','Np','A']\n",
    "    posTagedQS =  ViPosTagger.postagging(ViTokenizer.tokenize(qs))\n",
    "    cleanedQS = []\n",
    "    for i in range(len(posTagedQS[1])):\n",
    "        if posTagedQS[1][i] in getLabels:\n",
    "            cleanedQS.append(posTagedQS[0][i])\n",
    "    \n",
    "    result = \" \".join(cleanedQS)\n",
    "    return removeStopwords(removeDash(result))\n",
    "    "
   ]
  },
  {
   "cell_type": "code",
   "execution_count": 7,
   "metadata": {},
   "outputs": [],
   "source": [
    "def bm25okapi_search(tokenized_query, bm25, corpus, n_results = 1):\n",
    "    \"\"\"\n",
    "    Function that takes a tokenized query and prints the first 100 words of the \n",
    "    n_results most relevant results found in the corpus, based on the BM25\n",
    "    method.\n",
    "    \n",
    "    Parameters\n",
    "    ----------\n",
    "    @param tokenized_query: list, array-like\n",
    "        A valid list containing the tokenized query.\n",
    "    @param bm25: BM25 object,\n",
    "        A valid object of type BM25 (BM25Okapi or BM25Plus) from the library\n",
    "        `rank-bm25`, initialized with a valid corpus.\n",
    "    @param corpus: list, array-like\n",
    "        A valid list containing the corpus from which the BM25 object has been \n",
    "        initialized. As returned from function read_corpus().\n",
    "    @param n_results: int, default = 1\n",
    "        The number of top results to print.\n",
    "    \"\"\"\n",
    "    \n",
    "    # We skip checking validity of arguments for now... We assume the user \n",
    "    # knows what they're doing.\n",
    "    \n",
    "    # Get top results for the query\n",
    "    top_results = bm25.get_top_n(tokenized_query, corpus, n = n_results)\n",
    "    top_results_100words = [' '.join(top_result.split(' ')) \n",
    "                             for top_result in top_results]\n",
    "    \n",
    "    return top_results_100words"
   ]
  },
  {
   "cell_type": "code",
   "execution_count": 8,
   "metadata": {},
   "outputs": [],
   "source": [
    "tokenized_data = [ViTokenizer.tokenize(doc) for doc in data]\n"
   ]
  },
  {
   "cell_type": "code",
   "execution_count": 9,
   "metadata": {},
   "outputs": [],
   "source": [
    "bm25 = BM25Okapi(tokenized_data)"
   ]
  },
  {
   "cell_type": "code",
   "execution_count": 51,
   "metadata": {},
   "outputs": [],
   "source": [
    "# Save model to load\n",
    "with open('bm25result', 'wb') as bm25result_file:\n",
    "    pickle.dump(bm25, bm25result_file)"
   ]
  },
  {
   "cell_type": "code",
   "execution_count": 52,
   "metadata": {},
   "outputs": [],
   "source": [
    "#to read bm25 object\n",
    "with open('bm25result', 'rb') as bm25result_file:\n",
    "    bm25result = pickle.load(bm25result_file)"
   ]
  },
  {
   "cell_type": "code",
   "execution_count": 16,
   "metadata": {},
   "outputs": [
    {
     "name": "stdout",
     "output_type": "stream",
     "text": [
      "khi tòa_án ra quyết_định tuyên_bố một người bị mất năng_lực hành_vi dân_sự\n"
     ]
    },
    {
     "data": {
      "text/plain": [
       "['khi không còn căn cứ tuyên bố một người mất năng lực hành vi dân sự thì theo yêu cầu của chính người đó hoặc của người có quyền, lợi ích liên quan hoặc của cơ quan, tổ chức hữu quan, tòa án ra quyết định huỷ bỏ quyết định tuyên bố mất năng lực hành vi dân sự.',\n",
       " '3. khi không còn căn cứ tuyên bố một người bị hạn chế năng lực hành vi dân sự thì theo yêu cầu của chính người đó hoặc của người có quyền, lợi ích liên quan hoặc của cơ quan, tổ chức hữu quan, tòa án ra quyết định huỷ bỏ quyết định tuyên bố hạn chế năng lực hành vi dân sự.',\n",
       " 'b) người giám hộ là cá nhân chết hoặc bị tòa án tuyên bố hạn chế năng lực hành vi dân sự, có khó khăn trong nhận thức, làm chủ hành vi, mất năng lực hành vi dân sự, mất tích; pháp nhân làm giám hộ chấm dứt tồn tại;',\n",
       " 'b) người chưa thành niên có cha, mẹ nhưng cha, mẹ đều mất năng lực hành vi dân sự; cha, mẹ đều có khó khăn trong nhận thức, làm chủ hành vi; cha, mẹ đều bị hạn chế năng lực hành vi dân sự; cha, mẹ đều bị tòa án tuyên bố hạn chế quyền đối với con; cha, mẹ đều không có điều kiện chăm sóc, giáo dục con và có yêu cầu người giám hộ;',\n",
       " 'a) sau 03 năm, kể từ ngày quyết định tuyên bố mất tích của tòa án có hiệu lực pháp luật mà vẫn không có tin tức xác thực là còn sống;']"
      ]
     },
     "execution_count": 16,
     "metadata": {},
     "output_type": "execute_result"
    }
   ],
   "source": [
    "query = \"khi nào tòa án có thể ra quyết định tuyên bố một người bị mất năng lực hành vi dân sự ?\"\n",
    "tokenized_query = ViTokenizer.tokenize(cleanQuestion(query))\n",
    "print(tokenized_query)\n",
    "bm25okapi_search(tokenized_query = tokenized_query,\n",
    "                 bm25 = bm25, \n",
    "                 corpus = data,\n",
    "                 n_results = 5)"
   ]
  },
  {
   "cell_type": "code",
   "execution_count": null,
   "metadata": {},
   "outputs": [],
   "source": []
  },
  {
   "cell_type": "code",
   "execution_count": null,
   "metadata": {},
   "outputs": [],
   "source": []
  }
 ],
 "metadata": {
  "kernelspec": {
   "display_name": "Python 3",
   "language": "python",
   "name": "python3"
  },
  "language_info": {
   "codemirror_mode": {
    "name": "ipython",
    "version": 3
   },
   "file_extension": ".py",
   "mimetype": "text/x-python",
   "name": "python",
   "nbconvert_exporter": "python",
   "pygments_lexer": "ipython3",
   "version": "3.7.9"
  }
 },
 "nbformat": 4,
 "nbformat_minor": 2
}
