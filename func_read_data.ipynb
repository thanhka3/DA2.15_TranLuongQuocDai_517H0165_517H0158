{
 "cells": [
  {
   "cell_type": "code",
   "execution_count": 6,
   "metadata": {},
   "outputs": [],
   "source": [
    "import json\n",
    "f = open('./QA_data/qa_train.json',encoding='utf-8')\n",
    "fileRead = json.load(f)\n"
   ]
  },
  {
   "cell_type": "code",
   "execution_count": 28,
   "metadata": {},
   "outputs": [],
   "source": [
    "context = []\n",
    "question = []\n",
    "answer = []\n",
    "for object in fileRead:\n",
    "    for qa in object[\"qas\"]:\n",
    "        context.append(object[\"context\"])\n",
    "        question.append(qa[\"question\"])\n",
    "        answer.append(qa[\"answer\"])\n"
   ]
  },
  {
   "cell_type": "code",
   "execution_count": 29,
   "metadata": {},
   "outputs": [],
   "source": [
    "dataset = {\n",
    "    \"context\": context,\n",
    "    \"question\": question,\n",
    "    \"answer\": answer\n",
    "}"
   ]
  },
  {
   "cell_type": "code",
   "execution_count": 30,
   "metadata": {},
   "outputs": [
    {
     "data": {
      "text/plain": [
       "{'context': ['Bộ luật này quy định địa vị pháp lý, chuẩn mực pháp lý về cách ứng xử của cá nhân, pháp nhân, quyền, nghĩa vụ về nhân thân và tài sản của cá nhân, pháp nhân trong các quan hệ được hình thành trên cơ sở bình đẳng, tự do ý chí, độc lập về tài sản và tự chịu trách nhiệm. ; Điều 1.',\n",
       "  'Bộ luật này quy định địa vị pháp lý, chuẩn mực pháp lý về cách ứng xử của cá nhân, pháp nhân, quyền, nghĩa vụ về nhân thân và tài sản của cá nhân, pháp nhân trong các quan hệ được hình thành trên cơ sở bình đẳng, tự do ý chí, độc lập về tài sản và tự chịu trách nhiệm. ; Điều 1.',\n",
       "  'Bộ luật này quy định địa vị pháp lý, chuẩn mực pháp lý về cách ứng xử của cá nhân, pháp nhân, quyền, nghĩa vụ về nhân thân và tài sản của cá nhân, pháp nhân trong các quan hệ được hình thành trên cơ sở bình đẳng, tự do ý chí, độc lập về tài sản và tự chịu trách nhiệm. ; Điều 1.',\n",
       "  'Ở nước Cộng hòa xã hội chủ nghĩa Việt Nam, các quyền dân sự được công nhận, tôn trọng, bảo vệ và bảo đảm theo Hiến pháp và pháp luật. ; Điều 2, khoản 1.',\n",
       "  'Ở nước Cộng hòa xã hội chủ nghĩa Việt Nam, các quyền dân sự được công nhận, tôn trọng, bảo vệ và bảo đảm theo Hiến pháp và pháp luật. ; Điều 2, khoản 1.',\n",
       "  'Quyền dân sự chỉ có thể bị hạn chế theo quy định của luật trong trường hợp cần thiết vì lý do quốc phòng, an ninh quốc gia, trật tự, an toàn xã hội, đạo đức xã hội, sức khỏe của cộng đồng. ; Điều 2, khoản 2.',\n",
       "  'Quyền dân sự chỉ có thể bị hạn chế theo quy định của luật trong trường hợp cần thiết vì lý do quốc phòng, an ninh quốc gia, trật tự, an toàn xã hội, đạo đức xã hội, sức khỏe của cộng đồng. ; Điều 2, khoản 2.',\n",
       "  'Quyền dân sự chỉ có thể bị hạn chế theo quy định của luật trong trường hợp cần thiết vì lý do quốc phòng, an ninh quốc gia, trật tự, an toàn xã hội, đạo đức xã hội, sức khỏe của cộng đồng. ; Điều 2, khoản 2.'],\n",
       " 'question': ['Quy định chung của bộ luật dân sự là gì ?',\n",
       "  'Tôi muốn biết tổng quan về bộ luật dân sự.',\n",
       "  'Bộ luật dân sự được hình thành dựa vào cái gì ?',\n",
       "  'Quyền dân sự được công nhận ở đâu ?',\n",
       "  'Quyền dân sự được công nhận, đảm bảo theo Hiến pháp phải không ?',\n",
       "  'Quyền dân sự bị hạn chế khi nào ?',\n",
       "  'Quyền dân sự bị hạn chế bởi lý do gì ?',\n",
       "  'Vì sao quyền dân sự bị hạn chế ?'],\n",
       " 'answer': [{'text': ['quy định địa vị pháp lý, chuẩn mực pháp lý về cách ứng xử của cá nhân, pháp nhân, quyền, nghĩa vụ về nhân thân và tài sản của cá nhân, pháp nhân trong các quan hệ'],\n",
       "   'start': [12]},\n",
       "  {'text': ['quy định địa vị pháp lý, chuẩn mực pháp lý về cách ứng xử của cá nhân, pháp nhân, quyền, nghĩa vụ về nhân thân và tài sản của cá nhân, pháp nhân trong các quan hệ'],\n",
       "   'start': [12]},\n",
       "  {'text': ['được hình thành trên cơ sở bình đẳng, tự do ý chí, độc lập về tài sản và tự chịu trách nhiệm.'],\n",
       "   'start': [175]},\n",
       "  {'text': ['quyền dân sự được công nhận, tôn trọng, bảo vệ và bảo đảm theo Hiến pháp và pháp luật.'],\n",
       "   'start': [47]},\n",
       "  {'text': ['quyền dân sự được công nhận, tôn trọng, bảo vệ và bảo đảm theo Hiến pháp và pháp luật.'],\n",
       "   'start': [47]},\n",
       "  {'text': ['chỉ có thể bị hạn chế theo quy định của luật trong trường hợp cần thiết'],\n",
       "   'start': [13]},\n",
       "  {'text': ['vì lý do quốc phòng, an ninh quốc gia, trật tự, an toàn xã hội, đạo đức xã hội, sức khỏe của cộng đồng.'],\n",
       "   'start': [85]},\n",
       "  {'text': ['vì lý do quốc phòng, an ninh quốc gia, trật tự, an toàn xã hội, đạo đức xã hội, sức khỏe của cộng đồng.'],\n",
       "   'start': [85]}]}"
      ]
     },
     "execution_count": 30,
     "metadata": {},
     "output_type": "execute_result"
    }
   ],
   "source": [
    "dataset"
   ]
  }
 ],
 "metadata": {
  "kernelspec": {
   "display_name": "Python 3",
   "language": "python",
   "name": "python3"
  },
  "language_info": {
   "codemirror_mode": {
    "name": "ipython",
    "version": 3
   },
   "file_extension": ".py",
   "mimetype": "text/x-python",
   "name": "python",
   "nbconvert_exporter": "python",
   "pygments_lexer": "ipython3",
   "version": "3.7.9"
  }
 },
 "nbformat": 4,
 "nbformat_minor": 2
}
